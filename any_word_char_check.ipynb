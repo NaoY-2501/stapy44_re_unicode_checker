{
 "cells": [
  {
   "cell_type": "code",
   "execution_count": 1,
   "metadata": {},
   "outputs": [],
   "source": [
    "import csv\n",
    "import os\n",
    "import re\n",
    "import unicodedata\n",
    "\n",
    "import pandas as pd"
   ]
  },
  {
   "cell_type": "code",
   "execution_count": 2,
   "metadata": {},
   "outputs": [],
   "source": [
    "p = re.compile(r'\\w')"
   ]
  },
  {
   "cell_type": "code",
   "execution_count": 3,
   "metadata": {},
   "outputs": [
    {
     "data": {
      "text/plain": [
       "['unicode_letters.csv', 'unicode_numbers.csv', 'unicode_punctuations.csv']"
      ]
     },
     "execution_count": 3,
     "metadata": {},
     "output_type": "execute_result"
    }
   ],
   "source": [
    "unicode_data = os.listdir('data')\n",
    "unicode_data"
   ]
  },
  {
   "cell_type": "code",
   "execution_count": 4,
   "metadata": {
    "scrolled": true
   },
   "outputs": [
    {
     "name": "stdout",
     "output_type": "stream",
     "text": [
      "unicode_letters.csv\n",
      "match : 19978/20188\n",
      "unmatch : 210/20188\n",
      "\n",
      "unicode_numbers.csv\n",
      "match : 1653/1754\n",
      "unmatch : 101/1754\n",
      "\n",
      "unicode_punctuations.csv\n",
      "match : 1/156\n",
      "unmatch : 155/156\n",
      "\n"
     ]
    }
   ],
   "source": [
    "unmatch_chars = []\n",
    "for data in unicode_data:\n",
    "    print(data)\n",
    "    match = 0\n",
    "    unmatch = 0\n",
    "    category = data[8:-4]\n",
    "    path = os.path.join('data', data)\n",
    "    df = pd.read_csv(path)\n",
    "    for index, row in df.iterrows():\n",
    "        codepoint = row['unicode'][2:]\n",
    "        codepoint_int = int(codepoint, 16)\n",
    "        char = chr(codepoint_int)\n",
    "        if p.match(char):\n",
    "            match += 1\n",
    "        else:\n",
    "            unmatch += 1\n",
    "            unmatch_chars.append([category, codepoint, codepoint_int])\n",
    "    print(f'match : {match}/{len(df)}')\n",
    "    print(f'unmatch : {unmatch}/{len(df)}\\n')"
   ]
  },
  {
   "cell_type": "code",
   "execution_count": 5,
   "metadata": {},
   "outputs": [],
   "source": [
    "fieldnames = ['category', 'unicode', 'char', 'name']\n",
    "with open('output/unmatch_chars.csv', 'w') as fout:\n",
    "    writer = csv.DictWriter(fout, fieldnames=fieldnames)\n",
    "    rows = []\n",
    "    for unmatch in unmatch_chars:\n",
    "        char = chr(unmatch[2])\n",
    "        row = {\n",
    "            'category': unmatch[0],\n",
    "            'unicode': f'U+{unmatch[1]}',\n",
    "            'char': char,\n",
    "            'name': unicodedata.name(char, 'no name'),\n",
    "        }\n",
    "        rows.append(row)\n",
    "    writer.writerows(rows)"
   ]
  },
  {
   "cell_type": "code",
   "execution_count": null,
   "metadata": {},
   "outputs": [],
   "source": []
  }
 ],
 "metadata": {
  "kernelspec": {
   "display_name": "Python 3",
   "language": "python",
   "name": "python3"
  },
  "language_info": {
   "codemirror_mode": {
    "name": "ipython",
    "version": 3
   },
   "file_extension": ".py",
   "mimetype": "text/x-python",
   "name": "python",
   "nbconvert_exporter": "python",
   "pygments_lexer": "ipython3",
   "version": "3.7.0"
  }
 },
 "nbformat": 4,
 "nbformat_minor": 2
}
